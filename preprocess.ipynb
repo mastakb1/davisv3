{
 "cells": [
  {
   "cell_type": "code",
   "execution_count": 1,
   "metadata": {},
   "outputs": [],
   "source": [
    "import pandas as pd\n",
    "import matplotlib.pyplot as plt\n",
    "import seaborn as sns"
   ]
  },
  {
   "cell_type": "code",
   "execution_count": 7,
   "metadata": {},
   "outputs": [],
   "source": [
    "# Baca data dari CSV\n",
    "file_path = 'film_data.csv'  # Sesuaikan jalur file CSV Anda\n",
    "df = pd.read_csv(file_path, names=['Film Name', 'Pendapatan Kotor ($)', 'Distributor', 'Genre'], skiprows=0)\n",
    "\n",
    "# Pisahkan genre menjadi baris terpisah\n",
    "df_genre = df.set_index(['Film Name', 'Pendapatan Kotor ($)', 'Distributor']).Genre.str.split(', ', expand=True).stack().reset_index(name='Genre').drop('level_3', axis=1)\n",
    "df_genre['Distributor'] = df_genre['Distributor'].str.replace('See full company information', '')\n"
   ]
  },
  {
   "cell_type": "code",
   "execution_count": 5,
   "metadata": {},
   "outputs": [
    {
     "data": {
      "text/plain": [
       "<Figure size 1200x800 with 0 Axes>"
      ]
     },
     "execution_count": 5,
     "metadata": {},
     "output_type": "execute_result"
    },
    {
     "data": {
      "text/plain": [
       "<Figure size 1200x800 with 0 Axes>"
      ]
     },
     "metadata": {},
     "output_type": "display_data"
    }
   ],
   "source": [
    "# Plotting\n",
    "plt.figure(figsize=(12, 8))\n"
   ]
  },
  {
   "cell_type": "code",
   "execution_count": 8,
   "metadata": {},
   "outputs": [
    {
     "name": "stdout",
     "output_type": "stream",
     "text": [
      "Data berhasil disimpan ke film_data_preprocessed.csv\n"
     ]
    }
   ],
   "source": [
    "# Simpan dataframe df_genre ke file CSV baru\n",
    "output_file_path = 'film_data_preprocessed.csv'  # Tentukan jalur file output\n",
    "df_genre.to_csv(output_file_path, index=False)\n",
    "\n",
    "print(f\"Data berhasil disimpan ke {output_file_path}\")"
   ]
  }
 ],
 "metadata": {
  "kernelspec": {
   "display_name": "Python 3",
   "language": "python",
   "name": "python3"
  },
  "language_info": {
   "codemirror_mode": {
    "name": "ipython",
    "version": 3
   },
   "file_extension": ".py",
   "mimetype": "text/x-python",
   "name": "python",
   "nbconvert_exporter": "python",
   "pygments_lexer": "ipython3",
   "version": "3.12.3"
  }
 },
 "nbformat": 4,
 "nbformat_minor": 2
}
